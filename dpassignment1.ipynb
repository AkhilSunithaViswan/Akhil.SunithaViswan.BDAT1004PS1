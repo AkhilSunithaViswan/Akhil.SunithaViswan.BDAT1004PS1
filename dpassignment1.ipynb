{
 "cells": [
  {
   "cell_type": "markdown",
   "id": "8fd41ad7",
   "metadata": {},
   "source": [
    "# Question 1 C#\n",
    "What data type is each of the following?\n",
    "\n",
    "i.       5\n",
    "ii.      5.0\n",
    "iii.     5 > 1\n",
    "iv.      '5'\n",
    "v.       5 * 2\n",
    "vi.      '5' * 2\n",
    "vii.     '5' + '2'\n",
    "viii.    5 / 2\n",
    "ix.      5 % 2\n",
    "x.       {5, 2, 1}\n",
    "xi.      5 == 3\n",
    "xii.     Pi (the number)"
   ]
  },
  {
   "cell_type": "markdown",
   "id": "7b56954d",
   "metadata": {},
   "source": [
    "i.          Int32\n",
    "ii.         Double\n",
    "iii.        Boolean\n",
    "iv.         String\n",
    "v.          Int32\n",
    "vi.         String\n",
    "vii.        String\n",
    "viii.       Int32\n",
    "ix.         Double\n",
    "x.          List\n",
    "xi.         Boolean\n",
    "xii.        Double"
   ]
  },
  {
   "cell_type": "markdown",
   "id": "690a122f",
   "metadata": {},
   "source": [
    "# Question 2 C#\n",
    "Write (and evaluate) C# expressions that answer these questions:\n",
    "a. How many letters are there in 'Supercalifragilisticexpialidocious'?\n",
    "b. Does 'Supercalifragilisticexpialidocious' contain 'ice' as a substring?\n",
    "c. Which of the following words is the longest:\n",
    "Supercalifragilisticexpialidocious, Honorificabilitudinitatibus, or\n",
    "Bababadalgharaghtakamminarronnkonn?\n",
    "d. Which composer comes first in the dictionary: 'Berlioz', 'Borodin', 'Brian',\n",
    "'Bartok', 'Bellini', 'Buxtehude', 'Bernstein'. Which one comes last?\n"
   ]
  },
  {
   "cell_type": "code",
   "execution_count": null,
   "id": "00733ace",
   "metadata": {},
   "outputs": [],
   "source": [
    "//2.a\n",
    "        \n",
    "        string word = \"Supercalifragilisticexpialidocious\";\n",
    "        string v=\"ice\";\n",
    "        int l = word.Length;\n",
    "        Console.Write(\"Number of words in the string = {0}\\n\", l);\n",
    "\n",
    " //2.b\n",
    "         Boolean i=word.Contains(v);\n",
    "         Console.Write(\"does the string contain specified word: {0}\\n\", i);\n",
    "         \n",
    " //2.c\n",
    " \n",
    "string word = \"Supercalifragilisticexpialidocious\";\n",
    "string word1 = \"Honorificabilitudinitatibus\";\n",
    "string word2 = \"Bababadalgharaghtakamminarronnkonn\";\n",
    "int l = word.Length;\n",
    "int r = word1.Length;\n",
    "int s = word2.Length;\n",
    "\n",
    "if(l>r && l>s )\n",
    "{\n",
    "  Console.Write($\"string {word} is longer\" );\n",
    "}   \n",
    "else if(r>1 && r>s)\n",
    "        \n",
    "    {\n",
    "        Console.Write($\"string {word1} is longer\" );\n",
    "    }\n",
    "\n",
    "\n",
    "else{\n",
    "    Console.Write($\"string {word2} is longer\" );\n",
    "} "
   ]
  },
  {
   "cell_type": "markdown",
   "id": "7bea480e",
   "metadata": {},
   "source": [
    "# Question 3 C#\n",
    "Implement function triangleArea(a,b,c) that takes as input the lengths of the 3\n",
    "sides of a triangle and returns the area of the triangle. By Heron's formula, the area\n",
    "of a triangle with side lengths a, b, and c is s(s − a)(s −b)(s −c), where\n",
    "s = (a + b + c)/2.\n",
    ">>> triangleArea(2,2,2)\n",
    "1.7320508075688772\n"
   ]
  },
  {
   "cell_type": "code",
   "execution_count": null,
   "id": "8e5f05fd",
   "metadata": {},
   "outputs": [],
   "source": [
    "string a = \"12\";\n",
    "        \n",
    "        string b = \"14\";\n",
    "        \n",
    "        string c = \"12\";\n",
    "\n",
    "        double a1=Convert.ToDouble(a);\n",
    "        double b1 = Convert.ToDouble(b);\n",
    "        double c1 = Convert.ToDouble(c);\n",
    "\n",
    "        double s = Convert.ToDouble((a1 + b1 + c1) / 2);\n",
    "        double v = s - a1;\n",
    "        double x = s - b1;\n",
    "        double z = s - c1;\n",
    "\n",
    "        double area = Math.Sqrt(s*v*x*z);\n",
    "        Console.Write($\"Area of tirangle:{area}\");"
   ]
  },
  {
   "cell_type": "markdown",
   "id": "a9247633",
   "metadata": {},
   "source": [
    "# Question 4 C#\n",
    "Write a program in C# Sharp to separate odd and even integers in separate arrays.\n",
    "Go to the editor\n",
    "Test Data :\n",
    "Input the number of elements to be stored in the array :5\n",
    "Input 5 elements in the array :\n",
    "element - 0 : 25\n",
    "element - 1 : 47\n",
    "element - 2 : 42\n",
    "element - 3 : 56\n",
    "element - 4 : 32\n",
    "Expected Output:\n",
    "The Even elements are:\n",
    "42 56 32\n",
    "The Odd elements are : 25 47"
   ]
  },
  {
   "cell_type": "code",
   "execution_count": null,
   "id": "1040d1dc",
   "metadata": {},
   "outputs": [],
   "source": [
    "int[] arr1 = new int[] {\n",
    "            25,\n",
    "            47,\n",
    "            42,\n",
    "            56,\n",
    "            32\n",
    "         };\n",
    "            int[] arr2 = new int[5];\n",
    "            int[] arr3 = new int[5];\n",
    "            int i, j = 0, k = 0;\n",
    "            for (i = 0; i < 5; i++)\n",
    "            {\n",
    "                if (arr1[i] % 2 == 0)\n",
    "                {\n",
    "                    arr2[j] = arr1[i];\n",
    "                    j++;\n",
    "                }\n",
    "                else\n",
    "                {\n",
    "                    arr3[k] = arr1[i];\n",
    "                    k++;\n",
    "                }\n",
    "            }\n",
    "            Console.WriteLine(\"Even numbers...\");\n",
    "            for (i = 0; i < j; i++)\n",
    "            {\n",
    "                Console.WriteLine(arr2[i]);\n",
    "            }\n",
    "            Console.WriteLine(\"Odd numbers...\");\n",
    "            for (i = 0; i < k; i++)\n",
    "            {\n",
    "                Console.WriteLine(arr3[i]);\n",
    "            }"
   ]
  },
  {
   "cell_type": "markdown",
   "id": "b989a2d6",
   "metadata": {},
   "source": [
    "# Question 5 C#\n",
    "a. Write a function inside(x,y,x1,y1,x2,y2) that returns True or False\n",
    "dependingonwhetherthepoint(x,y)liesintherectanglewithlowerleft\n",
    "corner (x1,y1) and upper right corner (x2,y2).\n",
    ">>> inside(1,1,0,0,2,3)\n",
    "True\n",
    ">>> inside(-1,-1,0,0,2,3)\n",
    "False\n",
    "b. Use function inside()from part a. to write an expression that tests whether\n",
    "the point (1,1) lies in both of the following rectangles: one with lower left\n",
    "corner (0.3, 0.5) and upper right corner (1.1, 0.7) and the other with lower\n",
    "left corner (0.5, 0.2) and upper right corner (1.1, 2).\n"
   ]
  },
  {
   "cell_type": "code",
   "execution_count": null,
   "id": "e757d872",
   "metadata": {},
   "outputs": [],
   "source": []
  },
  {
   "cell_type": "markdown",
   "id": "30cf58d5",
   "metadata": {},
   "source": [
    "# Question 6 Python\n",
    "16. You can turn a word into pig-Latin using the following two rules(simplified):\n",
    "• If the word starts with a consonant, move that letter to the end and append\n",
    "'ay'. For example, 'happy' becomes 'appyhay' and 'pencil' becomes 'encilpay'.\n",
    "• If the word starts with a vowel, simply append 'way' to the end of the word.\n",
    "For example, 'enter' becomes 'enterway' and 'other' becomes 'otherway' . For\n",
    "our purposes, there are 5 vowels: a, e, i, o, u (so we count y as a consonant).\n",
    "Write a function pig() that takes a word (i.e., a string) as input and returns its pigLatin form. Your function should still work if the input word contains upper case\n",
    "characters. Your output should always be lower case however.\n",
    ">>> pig('happy')\n",
    "'appyhay'\n",
    ">>> pig('Enter')\n",
    "'enterway'"
   ]
  },
  {
   "cell_type": "code",
   "execution_count": 2,
   "id": "c3e532b7",
   "metadata": {},
   "outputs": [
    {
     "name": "stdout",
     "output_type": "stream",
     "text": [
      "Enter a word : Enjoy\n",
      "enjoyway\n"
     ]
    }
   ],
   "source": [
    "vowels = ['a','e','i','o','u']\n",
    "def pig():\n",
    "    str = input(\"Enter a word : \")\n",
    "    str = str.lower()\n",
    "    if str[0] in vowels:\n",
    "        str = str + 'way'\n",
    "        print (str)\n",
    "    else:\n",
    "        result = str[1:]\n",
    "        result = result + str[0] + 'ay'\n",
    "        print(result)\n",
    "pig()"
   ]
  },
  {
   "cell_type": "markdown",
   "id": "a2704f3c",
   "metadata": {},
   "source": [
    "# Question 7 Python\n",
    "File bloodtype1.txt records blood-types of patients (A, B, AB, O or OO) at a clinic.\n",
    "Write a function bldcount() that reads the file with name name and reports (i.e.,\n",
    "prints) how many patients there are in each bloodtype.\n",
    ">>> bldcount('bloodtype.txt')\n",
    "There are 10 patients of blood type A.\n",
    "There is one patient of blood type B.\n",
    "There are 10 patients of blood type AB.\n",
    "There are 12 patients of blood type O.\n",
    "There are no patients of blood type OO."
   ]
  },
  {
   "cell_type": "code",
   "execution_count": 7,
   "id": "ba662716",
   "metadata": {},
   "outputs": [],
   "source": [
    "def bldcount(bloodtype):\n",
    "    file = open(bloodtype, 'r')\n",
    "    list = file.readlines() \n",
    "    for i in list:\n",
    "        data = i.split() #data are in list now\n",
    "\n",
    "        A = data.count('A')\n",
    "        B = data.count('B')\n",
    "        AB = data.count('AB')\n",
    "        O = data.count('O')\n",
    "        OO = data.count('OO')\n",
    "        print(\"There are\" ,A, \"patients of blood type A.\")\n",
    "        print(\"There are\" ,B, \"patients of blood type B.\")\n",
    "        print(\"There are\" ,AB, \"patients of blood type AB.\")\n",
    "        print(\"There are\" ,O, \"patients of blood type O.\")\n",
    "        print(\"There are\" ,OO, \"patients of blood type OO.\")\n"
   ]
  },
  {
   "cell_type": "code",
   "execution_count": 8,
   "id": "bfc011b2",
   "metadata": {},
   "outputs": [
    {
     "ename": "FileNotFoundError",
     "evalue": "[Errno 2] No such file or directory: 'bloodtype.txt'",
     "output_type": "error",
     "traceback": [
      "\u001b[1;31m---------------------------------------------------------------------------\u001b[0m",
      "\u001b[1;31mFileNotFoundError\u001b[0m                         Traceback (most recent call last)",
      "\u001b[1;32m~\\AppData\\Local\\Temp/ipykernel_24668/3050169966.py\u001b[0m in \u001b[0;36m<module>\u001b[1;34m\u001b[0m\n\u001b[1;32m----> 1\u001b[1;33m \u001b[0mbldcount\u001b[0m\u001b[1;33m(\u001b[0m\u001b[1;34m'bloodtype.txt'\u001b[0m\u001b[1;33m)\u001b[0m\u001b[1;33m\u001b[0m\u001b[1;33m\u001b[0m\u001b[0m\n\u001b[0m",
      "\u001b[1;32m~\\AppData\\Local\\Temp/ipykernel_24668/553167497.py\u001b[0m in \u001b[0;36mbldcount\u001b[1;34m(bloodtype)\u001b[0m\n\u001b[0;32m      1\u001b[0m \u001b[1;32mdef\u001b[0m \u001b[0mbldcount\u001b[0m\u001b[1;33m(\u001b[0m\u001b[0mbloodtype\u001b[0m\u001b[1;33m)\u001b[0m\u001b[1;33m:\u001b[0m\u001b[1;33m\u001b[0m\u001b[1;33m\u001b[0m\u001b[0m\n\u001b[1;32m----> 2\u001b[1;33m     \u001b[0mfile\u001b[0m \u001b[1;33m=\u001b[0m \u001b[0mopen\u001b[0m\u001b[1;33m(\u001b[0m\u001b[0mbloodtype\u001b[0m\u001b[1;33m,\u001b[0m \u001b[1;34m'r'\u001b[0m\u001b[1;33m)\u001b[0m\u001b[1;33m\u001b[0m\u001b[1;33m\u001b[0m\u001b[0m\n\u001b[0m\u001b[0;32m      3\u001b[0m     \u001b[0mlist\u001b[0m \u001b[1;33m=\u001b[0m \u001b[0mfile\u001b[0m\u001b[1;33m.\u001b[0m\u001b[0mreadlines\u001b[0m\u001b[1;33m(\u001b[0m\u001b[1;33m)\u001b[0m\u001b[1;33m\u001b[0m\u001b[1;33m\u001b[0m\u001b[0m\n\u001b[0;32m      4\u001b[0m     \u001b[1;32mfor\u001b[0m \u001b[0mi\u001b[0m \u001b[1;32min\u001b[0m \u001b[0mlist\u001b[0m\u001b[1;33m:\u001b[0m\u001b[1;33m\u001b[0m\u001b[1;33m\u001b[0m\u001b[0m\n\u001b[0;32m      5\u001b[0m         \u001b[0mdata\u001b[0m \u001b[1;33m=\u001b[0m \u001b[0mi\u001b[0m\u001b[1;33m.\u001b[0m\u001b[0msplit\u001b[0m\u001b[1;33m(\u001b[0m\u001b[1;33m)\u001b[0m \u001b[1;31m#data are in list now\u001b[0m\u001b[1;33m\u001b[0m\u001b[1;33m\u001b[0m\u001b[0m\n",
      "\u001b[1;31mFileNotFoundError\u001b[0m: [Errno 2] No such file or directory: 'bloodtype.txt'"
     ]
    }
   ],
   "source": [
    "bldcount('bloodtype.txt')"
   ]
  },
  {
   "cell_type": "markdown",
   "id": "9a8e7c96",
   "metadata": {},
   "source": [
    "# Question 8 Python\n",
    "Write a function curconv() that takes as input:\n",
    "1. a currency represented using a string (e.g., 'JPY' for the Japanese Yen or\n",
    "'EUR' for the Euro)\n",
    "2. an amount\n",
    "and then converts and returns the amount in US dollars.\n",
    ">>> curconv('EUR', 100)\n",
    "122.96544\n",
    ">>> curconv('JPY', 100)\n",
    "1.241401\n",
    "The currency rates you will need are stored in file currencies.txt:\n",
    "AUD 1.0345157 Australian Dollar\n",
    "CHF 1.0237414 Swiss Franc\n",
    "CNY 0.1550176 Chinese Yuan\n",
    "DKK 0.1651442 Danish Krone\n",
    "EUR 1.2296544 Euro\n",
    "GBP 1.5550989 British Pound\n",
    "HKD 0.1270207 Hong Kong Dollar\n",
    "INR 0.0177643 Indian Rupee\n",
    "JPY 0.01241401 Japanese Yen\n",
    "MXN 0.0751848 Mexican Peso\n",
    "MYR 0.3145411 Malaysian Ringgit\n",
    "NOK 0.1677063 Norwegian Krone\n",
    "NZD 0.8003591 New Zealand Dollar\n",
    "PHP 0.0233234 Philippine Peso\n",
    "SEK 0.148269 Swedish Krona\n",
    "SGD 0.788871 Singapore Dollar\n",
    "THB 0.0313789 Thai Baht"
   ]
  },
  {
   "cell_type": "code",
   "execution_count": 19,
   "id": "477bf13c",
   "metadata": {},
   "outputs": [
    {
     "ename": "TypeError",
     "evalue": "unsupported operand type(s) for +: 'int' and 'str'",
     "output_type": "error",
     "traceback": [
      "\u001b[1;31m---------------------------------------------------------------------------\u001b[0m",
      "\u001b[1;31mTypeError\u001b[0m                                 Traceback (most recent call last)",
      "\u001b[1;32m~\\AppData\\Local\\Temp/ipykernel_24668/55046823.py\u001b[0m in \u001b[0;36m<module>\u001b[1;34m\u001b[0m\n\u001b[1;32m----> 1\u001b[1;33m \u001b[1;36m6\u001b[0m \u001b[1;33m+\u001b[0m \u001b[1;34m'a'\u001b[0m\u001b[1;33m\u001b[0m\u001b[1;33m\u001b[0m\u001b[0m\n\u001b[0m",
      "\u001b[1;31mTypeError\u001b[0m: unsupported operand type(s) for +: 'int' and 'str'"
     ]
    }
   ],
   "source": [
    "6 + 'a' //answer:unsupported operand type(s) for +: 'int' and 'str'"
   ]
  },
  {
   "cell_type": "code",
   "execution_count": 20,
   "id": "645d1bf3",
   "metadata": {},
   "outputs": [
    {
     "ename": "IndexError",
     "evalue": "list index out of range",
     "output_type": "error",
     "traceback": [
      "\u001b[1;31m---------------------------------------------------------------------------\u001b[0m",
      "\u001b[1;31mIndexError\u001b[0m                                Traceback (most recent call last)",
      "\u001b[1;32m~\\AppData\\Local\\Temp/ipykernel_24668/2491699722.py\u001b[0m in \u001b[0;36m<module>\u001b[1;34m\u001b[0m\n\u001b[0;32m      1\u001b[0m \u001b[0mlist\u001b[0m \u001b[1;33m=\u001b[0m \u001b[1;33m[\u001b[0m\u001b[1;36m11\u001b[0m\u001b[1;33m,\u001b[0m\u001b[1;36m12\u001b[0m\u001b[1;33m,\u001b[0m\u001b[1;36m13\u001b[0m\u001b[1;33m,\u001b[0m\u001b[1;36m14\u001b[0m\u001b[1;33m,\u001b[0m\u001b[1;36m15\u001b[0m\u001b[1;33m,\u001b[0m\u001b[1;36m16\u001b[0m\u001b[1;33m,\u001b[0m\u001b[1;36m17\u001b[0m\u001b[1;33m,\u001b[0m\u001b[1;36m18\u001b[0m\u001b[1;33m,\u001b[0m\u001b[1;36m19\u001b[0m\u001b[1;33m,\u001b[0m\u001b[1;36m20\u001b[0m\u001b[1;33m]\u001b[0m\u001b[1;33m\u001b[0m\u001b[1;33m\u001b[0m\u001b[0m\n\u001b[0;32m      2\u001b[0m \u001b[1;33m\u001b[0m\u001b[0m\n\u001b[1;32m----> 3\u001b[1;33m \u001b[0mprint\u001b[0m\u001b[1;33m(\u001b[0m\u001b[0mlist\u001b[0m\u001b[1;33m[\u001b[0m\u001b[1;36m34\u001b[0m\u001b[1;33m]\u001b[0m\u001b[1;33m)\u001b[0m\u001b[1;33m\u001b[0m\u001b[1;33m\u001b[0m\u001b[0m\n\u001b[0m",
      "\u001b[1;31mIndexError\u001b[0m: list index out of range"
     ]
    }
   ],
   "source": [
    "list = [11,12,13,14,15,16,17,18,19,20]\n",
    "\n",
    "print(list[34]) //answer:list index out of range"
   ]
  },
  {
   "cell_type": "code",
   "execution_count": 21,
   "id": "8e84a9cb",
   "metadata": {},
   "outputs": [
    {
     "ename": "ValueError",
     "evalue": "math domain error",
     "output_type": "error",
     "traceback": [
      "\u001b[1;31m---------------------------------------------------------------------------\u001b[0m",
      "\u001b[1;31mValueError\u001b[0m                                Traceback (most recent call last)",
      "\u001b[1;32m~\\AppData\\Local\\Temp/ipykernel_24668/1114391229.py\u001b[0m in \u001b[0;36m<module>\u001b[1;34m\u001b[0m\n\u001b[0;32m      1\u001b[0m \u001b[1;32mimport\u001b[0m \u001b[0mmath\u001b[0m\u001b[1;33m\u001b[0m\u001b[1;33m\u001b[0m\u001b[0m\n\u001b[1;32m----> 2\u001b[1;33m \u001b[0mmath\u001b[0m\u001b[1;33m.\u001b[0m\u001b[0msqrt\u001b[0m\u001b[1;33m(\u001b[0m\u001b[1;33m-\u001b[0m\u001b[1;36m1.0\u001b[0m\u001b[1;33m)\u001b[0m\u001b[1;33m\u001b[0m\u001b[1;33m\u001b[0m\u001b[0m\n\u001b[0m",
      "\u001b[1;31mValueError\u001b[0m: math domain error"
     ]
    }
   ],
   "source": [
    "import math\n",
    "math.sqrt(-1.0) //answer:math domain error"
   ]
  },
  {
   "cell_type": "code",
   "execution_count": 22,
   "id": "347638df",
   "metadata": {},
   "outputs": [
    {
     "ename": "NameError",
     "evalue": "name 'x' is not defined",
     "output_type": "error",
     "traceback": [
      "\u001b[1;31m---------------------------------------------------------------------------\u001b[0m",
      "\u001b[1;31mNameError\u001b[0m                                 Traceback (most recent call last)",
      "\u001b[1;32m~\\AppData\\Local\\Temp/ipykernel_24668/1353120783.py\u001b[0m in \u001b[0;36m<module>\u001b[1;34m\u001b[0m\n\u001b[1;32m----> 1\u001b[1;33m \u001b[0mprint\u001b[0m\u001b[1;33m(\u001b[0m\u001b[0mx\u001b[0m\u001b[1;33m)\u001b[0m\u001b[1;33m\u001b[0m\u001b[1;33m\u001b[0m\u001b[0m\n\u001b[0m",
      "\u001b[1;31mNameError\u001b[0m: name 'x' is not defined"
     ]
    }
   ],
   "source": [
    "print(x) //answer:name 'x' is not defined"
   ]
  },
  {
   "cell_type": "code",
   "execution_count": 23,
   "id": "257cd10b",
   "metadata": {},
   "outputs": [
    {
     "ename": "FileNotFoundError",
     "evalue": "[Errno 2] No such file or directory: 'hello.txt'",
     "output_type": "error",
     "traceback": [
      "\u001b[1;31m---------------------------------------------------------------------------\u001b[0m",
      "\u001b[1;31mFileNotFoundError\u001b[0m                         Traceback (most recent call last)",
      "\u001b[1;32m~\\AppData\\Local\\Temp/ipykernel_24668/1032428223.py\u001b[0m in \u001b[0;36m<module>\u001b[1;34m\u001b[0m\n\u001b[1;32m----> 1\u001b[1;33m \u001b[0mopen\u001b[0m\u001b[1;33m(\u001b[0m\u001b[1;34m\"hello.txt\"\u001b[0m\u001b[1;33m)\u001b[0m\u001b[1;33m\u001b[0m\u001b[1;33m\u001b[0m\u001b[0m\n\u001b[0m",
      "\u001b[1;31mFileNotFoundError\u001b[0m: [Errno 2] No such file or directory: 'hello.txt'"
     ]
    }
   ],
   "source": [
    "open(\"hello.txt\") //answer:No such file or directory: 'hello.txt'"
   ]
  },
  {
   "cell_type": "markdown",
   "id": "a4aad35e",
   "metadata": {},
   "source": [
    "# Question 9 Python\n",
    "Each of the following will cause an exception (an error). Identify what type of\n",
    "exception each will cause.\n",
    "B\n",
    "D\n",
    "AC\n",
    "o\n",
    "m\n",
    "Tp\n",
    "u\n",
    "t\n",
    "e\n",
    "r\n",
    "1\n",
    "S\n",
    "t\n",
    "udi\n",
    "0e\n",
    "s 04\n",
    "Trying to add incompatible variables, as in\n",
    "adding 6 + ‘a’\n",
    "Referring to the 12th item of a list that has only 10\n",
    "items\n",
    "Using a value that is out ofrange for a function’s\n",
    "input, such as calling math.sqrt(-1.0)\n",
    "Using an undeclared variable, such as print(x)\n",
    "when x has not been defined\n",
    "Trying to open a file that does not exist, such as\n",
    "mistyping the file name or looking in the wrong directory."
   ]
  },
  {
   "cell_type": "code",
   "execution_count": null,
   "id": "ef8f747b",
   "metadata": {},
   "outputs": [],
   "source": []
  },
  {
   "cell_type": "markdown",
   "id": "8d1e4c68",
   "metadata": {},
   "source": [
    "# Question 10 Python\n",
    "Encryption is the process of hiding the meaning of a text by substituting letters in the\n",
    "message with other letters, according to some system. If the process is successful, no\n",
    "one but the intended recipient can understand the encrypted message. Cryptanalysis\n",
    "refers to attempts to undo the encryption, even if some details of the encryption are\n",
    "unknown (for example, if an encrypted message has been intercepted). The first step\n",
    "of cryptanalysis is often to build up a table of letter frequencies in the encrypted text.\n",
    "Assume that the string letters is already defined as\n",
    "'abcdefghijklmnopqrstuvwxyz'. Write a function called frequencies()\n",
    "that takes a string as its only parameter, and returns a list of integers, showing the\n",
    "number of times each character appears in the text. Your function may ignore any\n",
    "characters that are not in letters.\n",
    ">>> frequencies('The quick red fox got bored and went home.')\n",
    "[1, 1, 1, 3, 5, 1, 1, 2, 1, 0, 1, 0, 1, 2, 4, 0, 1, 2, 0, 2,\n",
    "1, 0, 1, 1, 0, 0]\n",
    ">>> frequencies('apple')"
   ]
  },
  {
   "cell_type": "code",
   "execution_count": 9,
   "id": "85ffd139",
   "metadata": {},
   "outputs": [],
   "source": [
    "def frequencies(text):\n",
    "    \n",
    "    letters = ('a','b','c','d','e','f','g','h','i','j','k','l','m','n','o','p','q','r','s','t','u','v','w','x','y','z')\n",
    "    total_letters = []\n",
    "    letter_dict = {}\n",
    "   \n",
    "    \n",
    "    #taking every letter of the input sentence and appending it to the total_letters.\n",
    "    for word in text:\n",
    "          for char in word:\n",
    "            if char.isalpha():\n",
    "                char = char.lower() #to convert input letter into lowercase so that 'a' and 'A' will act as same.\n",
    "                total_letters.append(char)\n",
    "    \n",
    "    #checking every a to z letter in total_letters and if found then we do count of that letter\n",
    "    for char in letters:\n",
    "        if char in total_letters:\n",
    "            letter_dict[char] = total_letters.count(char) \n",
    "           \n",
    "        else:\n",
    "            letter_dict[char] = 0\n",
    "            \n",
    "    #printing the count values\n",
    "    print(list(letter_dict.values()))\n",
    "    "
   ]
  },
  {
   "cell_type": "code",
   "execution_count": 10,
   "id": "08d82698",
   "metadata": {},
   "outputs": [
    {
     "name": "stdout",
     "output_type": "stream",
     "text": [
      "[1, 1, 1, 3, 5, 1, 1, 2, 1, 0, 1, 0, 1, 2, 4, 0, 1, 2, 0, 3, 1, 0, 1, 1, 0, 0]\n"
     ]
    }
   ],
   "source": [
    "frequencies('The quick red fox got bored and went home.')"
   ]
  },
  {
   "cell_type": "code",
   "execution_count": 11,
   "id": "98a88bf9",
   "metadata": {},
   "outputs": [
    {
     "name": "stdout",
     "output_type": "stream",
     "text": [
      "[1, 0, 0, 0, 1, 0, 0, 0, 0, 0, 0, 1, 0, 0, 0, 2, 0, 0, 0, 0, 0, 0, 0, 0, 0, 0]\n"
     ]
    }
   ],
   "source": [
    "frequencies('apple')"
   ]
  },
  {
   "cell_type": "code",
   "execution_count": null,
   "id": "97aa7322",
   "metadata": {},
   "outputs": [],
   "source": []
  }
 ],
 "metadata": {
  "kernelspec": {
   "display_name": "Python 3 (ipykernel)",
   "language": "python",
   "name": "python3"
  },
  "language_info": {
   "codemirror_mode": {
    "name": "ipython",
    "version": 3
   },
   "file_extension": ".py",
   "mimetype": "text/x-python",
   "name": "python",
   "nbconvert_exporter": "python",
   "pygments_lexer": "ipython3",
   "version": "3.9.7"
  }
 },
 "nbformat": 4,
 "nbformat_minor": 5
}
